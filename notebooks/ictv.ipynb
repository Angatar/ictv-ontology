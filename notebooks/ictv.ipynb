{
 "cells": [
  {
   "cell_type": "markdown",
   "id": "feda8153",
   "metadata": {},
   "source": [
    "# Instantiate ICTV OLS Client"
   ]
  },
  {
   "cell_type": "code",
   "execution_count": 77,
   "id": "d7a03d72",
   "metadata": {},
   "outputs": [
    {
     "name": "stdout",
     "output_type": "stream",
     "text": [
      "The autoreload extension is already loaded. To reload it, use:\n",
      "  %reload_ext autoreload\n"
     ]
    }
   ],
   "source": [
    "%load_ext autoreload\n",
    "%autoreload 2\n",
    "\n",
    "import pandas as pd\n",
    "import json\n",
    "\n",
    "from ictv_ols import ICTVOLSClient\n",
    "client = ICTVOLSClient('https://www.ebi.ac.uk/ols4/api/v2/ontologies/ictv')"
   ]
  },
  {
   "cell_type": "markdown",
   "id": "2be9415a",
   "metadata": {},
   "source": [
    "# Get taxa by release"
   ]
  },
  {
   "cell_type": "code",
   "execution_count": 78,
   "id": "3b0818bd",
   "metadata": {},
   "outputs": [
    {
     "name": "stdout",
     "output_type": "stream",
     "text": [
      "Number of viruses in MSL7: 1221\n",
      "|    | msl   | ictv_id      | label                      |\n",
      "|---:|:------|:-------------|:---------------------------|\n",
      "|  0 | MSL7  | ICTV19710002 | Papovaviridae              |\n",
      "|  1 | MSL7  | ICTV19710003 | Picornaviridae             |\n",
      "|  2 | MSL7  | ICTV19710008 | Papillomavirus             |\n",
      "|  3 | MSL7  | ICTV19710009 | Polyomavirus               |\n",
      "|  4 | MSL7  | ICTV19710010 | Calicivirus                |\n",
      "|  5 | MSL7  | ICTV19710011 | Enterovirus                |\n",
      "|  6 | MSL7  | ICTV19710012 | Rhinovirus                 |\n",
      "|  7 | MSL7  | ICTV19710013 | Mastadenovirus             |\n",
      "|  8 | MSL7  | ICTV19710014 | Alfalfa mosaic virus group |\n",
      "|  9 | MSL7  | ICTV19710015 | Alphavirus                 |\n"
     ]
    }
   ],
   "source": [
    "\n",
    "msl_7_viruses = client.get_all_taxa_by_release('MSL7')\n",
    "print(f\"Number of viruses in MSL7: {len(msl_7_viruses)}\")\n",
    "\n",
    "df = pd.DataFrame(msl_7_viruses)[['msl', 'ictv_id', 'label']]\n",
    "print(df.head(10).to_markdown())\n",
    "\n"
   ]
  },
  {
   "cell_type": "markdown",
   "id": "d4257589",
   "metadata": {},
   "source": [
    "# Get specific taxon by release"
   ]
  },
  {
   "cell_type": "code",
   "execution_count": 79,
   "id": "732103ef",
   "metadata": {},
   "outputs": [
    {
     "name": "stdout",
     "output_type": "stream",
     "text": [
      "{\n",
      "  \"msl\": \"MSL7\",\n",
      "  \"ictv_id\": \"ICTV19710003\",\n",
      "  \"label\": \"Picornaviridae\",\n",
      "  \"is_obsolete\": true,\n",
      "  \"obsolescence_reason\": null,\n",
      "  \"taxonomic_parents\": [\n",
      "    \"http://purl.obolibrary.org/obo/NCBITaxon_10239\"\n",
      "  ],\n",
      "  \"replaces\": [\n",
      "    \"http://ictv.global/id/MSL6/ICTV19710003\"\n",
      "  ],\n",
      "  \"replaced_by\": [\n",
      "    \"http://ictv.global/id/MSL8/ICTV19710003\"\n",
      "  ],\n",
      "  \"current_replacements\": [\n",
      "    \"http://ictv.global/id/MSL40/ICTV19710003\"\n",
      "  ]\n",
      "}\n"
     ]
    }
   ],
   "source": [
    "\n",
    "picornaviridae = client.get_taxon_by_release('Picornaviridae', 'MSL7')\n",
    "print(json.dumps(picornaviridae, indent=2))\n"
   ]
  },
  {
   "cell_type": "markdown",
   "id": "ed2b7422",
   "metadata": {},
   "source": [
    "### And get taxonomic parents of a specific taxon in a specific release"
   ]
  },
  {
   "cell_type": "code",
   "execution_count": 80,
   "id": "2de8413c",
   "metadata": {},
   "outputs": [
    {
     "name": "stdout",
     "output_type": "stream",
     "text": [
      "        ictv_id           label\n",
      "0  ICTV19710003  Picornaviridae\n"
     ]
    }
   ],
   "source": [
    "\n",
    "parents = client.get_taxonomic_parents('Cardiovirus', 'MSL7')\n",
    "\n",
    "df = pd.DataFrame(parents)[['ictv_id', 'label']]\n",
    "print(df.head(10))\n",
    "\n"
   ]
  },
  {
   "cell_type": "markdown",
   "id": "9a85aa82",
   "metadata": {},
   "source": [
    "# Getting the history of a taxon"
   ]
  },
  {
   "cell_type": "markdown",
   "id": "53bb714b",
   "metadata": {},
   "source": [
    "### What happened to Bovine adenovirus from MSL6?"
   ]
  },
  {
   "cell_type": "code",
   "execution_count": 81,
   "id": "4d240432",
   "metadata": {},
   "outputs": [
    {
     "name": "stdout",
     "output_type": "stream",
     "text": [
      "Obsolescence reason: SPLIT\n",
      "Replacements:\n",
      "|    | msl   | ictv_id      | label                     |\n",
      "|---:|:------|:-------------|:--------------------------|\n",
      "|  0 | MSL17 | ICTV19810186 | Bovine adenovirus 4       |\n",
      "|  1 | MSL17 | ICTV19810187 | Bovine adenovirus 5       |\n",
      "|  2 | MSL17 | ICTV19810188 | Bovine adenovirus 6       |\n",
      "|  3 | MSL17 | ICTV19810189 | Bovine adenovirus 7       |\n",
      "|  4 | MSL17 | ICTV19810190 | Bovine adenovirus 8       |\n",
      "|  5 | MSL40 | ICTV19810183 | Mastadenovirus bosprimum  |\n",
      "|  6 | MSL40 | ICTV19810185 | Mastadenovirus bostertium |\n",
      "|  7 | MSL40 | ICTV19990516 | Mastadenovirus caesari    |\n",
      "|  8 | MSL40 | ICTV19990521 | Mastadenovirus bovidae    |\n"
     ]
    }
   ],
   "source": [
    "taxon = client.get_taxon_by_release('Bovine adenovirus', 'MSL6')\n",
    "replacements = client.get_current_replacements('Bovine adenovirus', 'MSL6')\n",
    "\n",
    "print(f\"Obsolescence reason: {taxon['obsolescence_reason']}\")\n",
    "print(f\"Replacements:\")\n",
    "\n",
    "print(pd.DataFrame(replacements)[['msl', 'ictv_id', 'label']].to_markdown())\n",
    "\n"
   ]
  },
  {
   "cell_type": "markdown",
   "id": "ad924ab2",
   "metadata": {},
   "source": [
    "### Where did Poliovirus in MSL18 come from?"
   ]
  },
  {
   "cell_type": "code",
   "execution_count": 82,
   "id": "6634034f",
   "metadata": {},
   "outputs": [
    {
     "name": "stdout",
     "output_type": "stream",
     "text": [
      "|    | msl   | ictv_id      | label              | obsolescence_reason   |\n",
      "|---:|:------|:-------------|:-------------------|:----------------------|\n",
      "|  0 | MSL17 | ICTV19710068 | Human poliovirus 1 | MERGED                |\n",
      "|  1 | MSL17 | ICTV19790556 | Human poliovirus 2 | MERGED                |\n",
      "|  2 | MSL17 | ICTV19790557 | Human poliovirus 3 | MERGED                |\n"
     ]
    }
   ],
   "source": [
    "parents = client.get_historical_parents('Poliovirus', 'MSL18')\n",
    "\n",
    "print(pd.DataFrame(parents)[['msl', 'ictv_id', 'label', 'obsolescence_reason']].to_markdown())"
   ]
  },
  {
   "cell_type": "markdown",
   "id": "a6cf2feb",
   "metadata": {},
   "source": [
    "### Where did Alphacytorhabdovirus in MSL40 come from?"
   ]
  },
  {
   "cell_type": "code",
   "execution_count": 83,
   "id": "91085263",
   "metadata": {},
   "outputs": [
    {
     "name": "stdout",
     "output_type": "stream",
     "text": [
      "|    | msl   | ictv_id      | label           | obsolescence_reason   |\n",
      "|---:|:------|:-------------|:----------------|:----------------------|\n",
      "|  0 | MSL39 | ICTV19820133 | Cytorhabdovirus | SPLIT                 |\n"
     ]
    }
   ],
   "source": [
    "parents = client.get_historical_parents('Alphacytorhabdovirus', 'MSL40')\n",
    "\n",
    "print(pd.DataFrame(parents)[['msl', 'ictv_id', 'label', 'obsolescence_reason']].to_markdown())\n"
   ]
  },
  {
   "cell_type": "markdown",
   "id": "a0e14644",
   "metadata": {},
   "source": [
    "#### ... and what else was Cytorhabdovirus split into?"
   ]
  },
  {
   "cell_type": "code",
   "execution_count": 84,
   "id": "b43e063c",
   "metadata": {},
   "outputs": [
    {
     "name": "stdout",
     "output_type": "stream",
     "text": [
      "|    | msl   | ictv_id       | label                |\n",
      "|---:|:------|:--------------|:---------------------|\n",
      "|  0 | MSL40 | ICTV202419770 | Alphacytorhabdovirus |\n",
      "|  1 | MSL40 | ICTV202419771 | Betacytorhabdovirus  |\n",
      "|  2 | MSL40 | ICTV202419772 | Gammacytorhabdovirus |\n"
     ]
    }
   ],
   "source": [
    "replacements = client.get_current_replacements('Cytorhabdovirus', 'MSL39')\n",
    "\n",
    "print(pd.DataFrame(replacements)[['msl', 'ictv_id', 'label']].to_markdown())"
   ]
  },
  {
   "cell_type": "markdown",
   "id": "634b0e66",
   "metadata": {},
   "source": [
    "# What happened to MSL38 Stockinghallvirus?"
   ]
  },
  {
   "cell_type": "markdown",
   "id": "edde2131",
   "metadata": {},
   "source": [
    "It was deleted, so there are no current replacements. An empty array is returned."
   ]
  },
  {
   "cell_type": "code",
   "execution_count": 85,
   "id": "424bcdab",
   "metadata": {},
   "outputs": [
    {
     "name": "stdout",
     "output_type": "stream",
     "text": [
      "[]\n"
     ]
    }
   ],
   "source": [
    "replacements = client.get_current_replacements('Stockinghallvirus', 'MSL38')\n",
    "\n",
    "print(replacements)\n",
    "\n"
   ]
  },
  {
   "cell_type": "markdown",
   "id": "d0e3f3ec",
   "metadata": {},
   "source": [
    "# Given historical virus names, what are their current replacements?"
   ]
  },
  {
   "cell_type": "code",
   "execution_count": 86,
   "id": "11e1061d",
   "metadata": {},
   "outputs": [
    {
     "name": "stdout",
     "output_type": "stream",
     "text": [
      "|    | historical_name                               | current_replacement_label   | current_replacement_id   | current_replacement_msl   |\n",
      "|---:|:----------------------------------------------|:----------------------------|:-------------------------|:--------------------------|\n",
      "|  0 | Severe acute respiratory syndrome coronavirus | Betacoronavirus pandemicum  | ICTV20040588             | MSL40                     |\n",
      "|  1 | Poliovirus type 1                             | Enterovirus coxsackiepol    | ICTV20083305             | MSL40                     |\n",
      "|  2 | Entomopoxvirus                                | Alphaentomopoxvirus         | ICTV19910168             | MSL40                     |\n",
      "|  3 | Entomopoxvirus                                | Betaentomopoxvirus          | ICTV19910169             | MSL40                     |\n",
      "|  4 | Poxvirus                                      | Poxviridae                  | ICTV19740004             | MSL40                     |\n",
      "|  5 | Cytorhabdovirus                               | Alphacytorhabdovirus        | ICTV202419770            | MSL40                     |\n",
      "|  6 | Cytorhabdovirus                               | Betacytorhabdovirus         | ICTV202419771            | MSL40                     |\n",
      "|  7 | Cytorhabdovirus                               | Gammacytorhabdovirus        | ICTV202419772            | MSL40                     |\n"
     ]
    }
   ],
   "source": [
    "\n",
    "historical_names = [\n",
    "    'Severe acute respiratory syndrome coronavirus',\n",
    "    'Poliovirus type 1',\n",
    "    'Entomopoxvirus',\n",
    "    'Poxvirus',\n",
    "    'Cytorhabdovirus'\n",
    "]\n",
    "\n",
    "results = []\n",
    "\n",
    "for name in historical_names:\n",
    "    replacements = client.get_current_replacements(name)\n",
    "    for r in replacements:\n",
    "        results.append({\n",
    "            \"historical_name\": name,\n",
    "            \"current_replacement_label\": r['label'],\n",
    "            \"current_replacement_id\": r['ictv_id'],\n",
    "            \"current_replacement_msl\": r['msl']\n",
    "        })\n",
    "\n",
    "print(pd.DataFrame(results).to_markdown())\n",
    "\n"
   ]
  },
  {
   "cell_type": "markdown",
   "id": "5d04c0bb",
   "metadata": {},
   "source": [
    "# Given historical virus IDs, what are their current replacements?"
   ]
  },
  {
   "cell_type": "code",
   "execution_count": 87,
   "id": "78568cbd",
   "metadata": {},
   "outputs": [
    {
     "name": "stdout",
     "output_type": "stream",
     "text": [
      "|    | historical_id   | current_replacement_label   | current_replacement_id   | current_replacement_msl   |\n",
      "|---:|:----------------|:----------------------------|:-------------------------|:--------------------------|\n",
      "|  0 | ICTV20040588    | Betacoronavirus pandemicum  | ICTV20040588             | MSL40                     |\n",
      "|  1 | ICTV19710068    | Enterovirus coxsackiepol    | ICTV20083305             | MSL40                     |\n",
      "|  2 | ICTV19740021    | Alphaentomopoxvirus         | ICTV19910168             | MSL40                     |\n",
      "|  3 | ICTV19740021    | Betaentomopoxvirus          | ICTV19910169             | MSL40                     |\n",
      "|  4 | ICTV19710040    | Poxviridae                  | ICTV19740004             | MSL40                     |\n",
      "|  5 | ICTV19820133    | Alphacytorhabdovirus        | ICTV202419770            | MSL40                     |\n",
      "|  6 | ICTV19820133    | Betacytorhabdovirus         | ICTV202419771            | MSL40                     |\n",
      "|  7 | ICTV19820133    | Gammacytorhabdovirus        | ICTV202419772            | MSL40                     |\n"
     ]
    }
   ],
   "source": [
    "\n",
    "historical_ids = [\n",
    "    'ICTV20040588',\n",
    "    'ICTV19710068',\n",
    "    'ICTV19740021',\n",
    "    'ICTV19710040',\n",
    "    'ICTV19820133'\n",
    "]\n",
    "\n",
    "results = []\n",
    "\n",
    "for id in historical_ids:\n",
    "    replacements = client.get_current_replacements(id)\n",
    "    for r in replacements:\n",
    "        results.append({\n",
    "            \"historical_id\": id,\n",
    "            \"current_replacement_label\": r['label'],\n",
    "            \"current_replacement_id\": r['ictv_id'],\n",
    "            \"current_replacement_msl\": r['msl']\n",
    "        })\n",
    "\n",
    "print(pd.DataFrame(results).to_markdown())"
   ]
  }
 ],
 "metadata": {
  "kernelspec": {
   "display_name": "venv",
   "language": "python",
   "name": "python3"
  },
  "language_info": {
   "codemirror_mode": {
    "name": "ipython",
    "version": 3
   },
   "file_extension": ".py",
   "mimetype": "text/x-python",
   "name": "python",
   "nbconvert_exporter": "python",
   "pygments_lexer": "ipython3",
   "version": "3.13.7"
  }
 },
 "nbformat": 4,
 "nbformat_minor": 5
}
