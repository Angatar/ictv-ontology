{
 "cells": [
  {
   "cell_type": "markdown",
   "id": "feda8153",
   "metadata": {},
   "source": [
    "# Instantiate ICTV OLS Client"
   ]
  },
  {
   "cell_type": "code",
   "execution_count": 2,
   "id": "d7a03d72",
   "metadata": {},
   "outputs": [
    {
     "name": "stdout",
     "output_type": "stream",
     "text": [
      "The autoreload extension is already loaded. To reload it, use:\n",
      "  %reload_ext autoreload\n"
     ]
    }
   ],
   "source": [
    "%load_ext autoreload\n",
    "%autoreload 2\n",
    "\n",
    "import pandas as pd\n",
    "\n",
    "from ictv_ols import ICTVOLSClient\n",
    "client = ICTVOLSClient('http://localhost:8080/api/v2/ontologies/ictv_all_versions')"
   ]
  },
  {
   "cell_type": "markdown",
   "id": "2be9415a",
   "metadata": {},
   "source": [
    "# Get taxa by release"
   ]
  },
  {
   "cell_type": "code",
   "execution_count": 10,
   "id": "3b0818bd",
   "metadata": {},
   "outputs": [
    {
     "name": "stdout",
     "output_type": "stream",
     "text": [
      "Number of viruses in MSL7: 1221\n",
      "|    | msl   | ictv_id      | label                      |\n",
      "|---:|:------|:-------------|:---------------------------|\n",
      "|  0 | MSL7  | ICTV19790785 | Aus MK 6357 virus          |\n",
      "|  1 | MSL7  | ICTV19710002 | Papovaviridae              |\n",
      "|  2 | MSL7  | ICTV19710003 | Picornaviridae             |\n",
      "|  3 | MSL7  | ICTV19710008 | Papillomavirus             |\n",
      "|  4 | MSL7  | ICTV19710009 | Polyomavirus               |\n",
      "|  5 | MSL7  | ICTV19710010 | Calicivirus                |\n",
      "|  6 | MSL7  | ICTV19710011 | Enterovirus                |\n",
      "|  7 | MSL7  | ICTV19710012 | Rhinovirus                 |\n",
      "|  8 | MSL7  | ICTV19710013 | Mastadenovirus             |\n",
      "|  9 | MSL7  | ICTV19710014 | Alfalfa mosaic virus group |\n"
     ]
    }
   ],
   "source": [
    "\n",
    "msl_7_viruses = client.get_all_taxa_by_release('MSL7')\n",
    "print(f\"Number of viruses in MSL7: {len(msl_7_viruses)}\")\n",
    "\n",
    "df = pd.DataFrame(msl_7_viruses)[['msl', 'ictv_id', 'label']]\n",
    "print(df.head(10).to_markdown())\n",
    "\n"
   ]
  },
  {
   "cell_type": "markdown",
   "id": "d4257589",
   "metadata": {},
   "source": [
    "# Get specific taxon by release"
   ]
  },
  {
   "cell_type": "code",
   "execution_count": 6,
   "id": "732103ef",
   "metadata": {},
   "outputs": [
    {
     "name": "stdout",
     "output_type": "stream",
     "text": [
      "{'ictv_id': 'ICTV19710003', 'label': 'Picornaviridae', 'entity': {'appearsIn': ['ictv_all_versions'], 'curie': 'ICTV19710003', 'hasDirectChildren': True, 'hasDirectParents': False, 'hasHierarchicalChildren': True, 'hasHierarchicalParents': False, 'hierarchicalProperty': 'http://www.w3.org/2000/01/rdf-schema#subClassOf', 'imported': False, 'iri': 'http://ictv.global/id/MSL7/ICTV19710003', 'isDefiningOntology': False, 'isObsolete': True, 'isPreferredRoot': False, 'label': ['Picornaviridae'], 'linkedEntities': {'http://purl.obolibrary.org/obo/IAO_0100001': {'url': 'http://purl.obolibrary.org/obo/IAO_0100001', 'source': 'https://raw.githubusercontent.com/biopragmatics/bioregistry/main/exports/registry/registry.json', 'curie': 'iao:0100001'}, 'http://ictv.global/id/MSL6/ICTV19710003': {'numAppearsIn': 1.0, 'hasLocalDefinition': True, 'label': ['Picornaviridae'], 'curie': 'ICTV19710003', 'type': ['class', 'entity']}, 'http://ictv.global/id/MSL8/ICTV19710003': {'numAppearsIn': 1.0, 'hasLocalDefinition': True, 'label': ['Picornaviridae'], 'curie': 'ICTV19710003', 'type': ['class', 'entity']}}, 'linksTo': ['http://ictv.global/id/MSL8/ICTV19710003', 'http://ictv.global/id/MSL6/ICTV19710003'], 'numDescendants': 228.0, 'numHierarchicalDescendants': 228.0, 'ontologyId': 'ictv_all_versions', 'ontologyIri': 'http://ictv.global/id/MSL1', 'searchableAnnotationValues': [False], 'shortForm': 'ICTV19710003', 'type': ['class', 'entity'], 'http://purl.obolibrary.org/obo/IAO_0100001': 'http://ictv.global/id/MSL8/ICTV19710003', 'http://purl.org/dc/terms/identifier': 'ICTV19710003', 'http://purl.org/dc/terms/isReplacedBy': 'http://ictv.global/id/MSL8/ICTV19710003', 'http://purl.org/dc/terms/replaces': 'http://ictv.global/id/MSL6/ICTV19710003', 'http://www.w3.org/1999/02/22-rdf-syntax-ns#type': 'http://www.w3.org/2002/07/owl#Class', 'http://www.w3.org/2000/01/rdf-schema#isDefinedBy': 'http://ictv.global/id/MSL7', 'http://www.w3.org/2000/01/rdf-schema#label': 'Picornaviridae', 'http://www.w3.org/2000/01/rdf-schema#subClassOf': 'http://ictv.global/id/MSL7/ICTV19710000', 'http://www.w3.org/2002/07/owl#deprecated': True, 'http://www.w3.org/2002/07/owl#versionInfo': 'MSL7'}}\n"
     ]
    }
   ],
   "source": [
    "\n",
    "picornaviridae = client.get_taxon_by_release('MSL7', 'Picornaviridae')\n",
    "print(picornaviridae)\n",
    "\n"
   ]
  },
  {
   "cell_type": "markdown",
   "id": "ed2b7422",
   "metadata": {},
   "source": [
    "### And get its taxonomic parents"
   ]
  },
  {
   "cell_type": "code",
   "execution_count": 4,
   "id": "2de8413c",
   "metadata": {},
   "outputs": [
    {
     "name": "stdout",
     "output_type": "stream",
     "text": [
      "Parent MSL: MSL7, Parent ICTV ID: ICTV19710003\n",
      "        ictv_id           label\n",
      "0  ICTV19710003  Picornaviridae\n"
     ]
    }
   ],
   "source": [
    "\n",
    "parents = client.get_taxonomic_parents('MSL7', 'Cardiovirus')\n",
    "\n",
    "df = pd.DataFrame(parents)[['ictv_id', 'label']]\n",
    "print(df.head(10))\n",
    "\n"
   ]
  },
  {
   "cell_type": "markdown",
   "id": "9a85aa82",
   "metadata": {},
   "source": [
    "# Getting the history of a taxon"
   ]
  },
  {
   "cell_type": "markdown",
   "id": "53bb714b",
   "metadata": {},
   "source": [
    "### What happened to Bovine adenovirus from MSL6?"
   ]
  },
  {
   "cell_type": "code",
   "execution_count": null,
   "id": "4d240432",
   "metadata": {},
   "outputs": [
    {
     "ename": "ValueError",
     "evalue": "Taxon with identifier/label Bovine adenovirus not found in release MSL7",
     "output_type": "error",
     "traceback": [
      "\u001b[31m---------------------------------------------------------------------------\u001b[39m",
      "\u001b[31mValueError\u001b[39m                                Traceback (most recent call last)",
      "\u001b[36mCell\u001b[39m\u001b[36m \u001b[39m\u001b[32mIn[17]\u001b[39m\u001b[32m, line 1\u001b[39m\n\u001b[32m----> \u001b[39m\u001b[32m1\u001b[39m taxon = \u001b[43mclient\u001b[49m\u001b[43m.\u001b[49m\u001b[43mget_taxon_by_release\u001b[49m\u001b[43m(\u001b[49m\u001b[33;43m'\u001b[39;49m\u001b[33;43mMSL7\u001b[39;49m\u001b[33;43m'\u001b[39;49m\u001b[43m,\u001b[49m\u001b[43m \u001b[49m\u001b[33;43m'\u001b[39;49m\u001b[33;43mBovine adenovirus\u001b[39;49m\u001b[33;43m'\u001b[39;49m\u001b[43m)\u001b[49m\n\u001b[32m      2\u001b[39m replacements = client.get_replacements(\u001b[33m'\u001b[39m\u001b[33mMSL7\u001b[39m\u001b[33m'\u001b[39m, \u001b[33m'\u001b[39m\u001b[33mBovine adenovirus\u001b[39m\u001b[33m'\u001b[39m)\n\u001b[32m      4\u001b[39m \u001b[38;5;28mprint\u001b[39m(\u001b[33mf\u001b[39m\u001b[33m\"\u001b[39m\u001b[33mObsolescence reason: \u001b[39m\u001b[38;5;132;01m{\u001b[39;00mtaxon.obsolescence_reason\u001b[38;5;132;01m}\u001b[39;00m\u001b[33m\"\u001b[39m)\n",
      "\u001b[36mFile \u001b[39m\u001b[32m~/ictv-ontology/notebooks/ictv_ols.py:41\u001b[39m, in \u001b[36mICTVOLSClient.get_taxon_by_release\u001b[39m\u001b[34m(self, release, id_or_label)\u001b[39m\n\u001b[32m     34\u001b[39m res = \u001b[38;5;28mself\u001b[39m._get_all_merged([\n\u001b[32m     35\u001b[39m     \u001b[33mf\u001b[39m\u001b[33m\"\u001b[39m\u001b[38;5;132;01m{\u001b[39;00m\u001b[38;5;28mself\u001b[39m.base_url\u001b[38;5;132;01m}\u001b[39;00m\u001b[33m/classes?\u001b[39m\u001b[38;5;132;01m{\u001b[39;00mVERSION_INFO\u001b[38;5;132;01m}\u001b[39;00m\u001b[33m=\u001b[39m\u001b[38;5;132;01m{\u001b[39;00mrelease\u001b[38;5;132;01m}\u001b[39;00m\u001b[33m&isObsolete=false&\u001b[39m\u001b[38;5;132;01m{\u001b[39;00mIDENTIFIER\u001b[38;5;132;01m}\u001b[39;00m\u001b[33m=\u001b[39m\u001b[38;5;132;01m{\u001b[39;00mid_or_label\u001b[38;5;132;01m}\u001b[39;00m\u001b[33m\"\u001b[39m,\n\u001b[32m     36\u001b[39m     \u001b[33mf\u001b[39m\u001b[33m\"\u001b[39m\u001b[38;5;132;01m{\u001b[39;00m\u001b[38;5;28mself\u001b[39m.base_url\u001b[38;5;132;01m}\u001b[39;00m\u001b[33m/classes?\u001b[39m\u001b[38;5;132;01m{\u001b[39;00mVERSION_INFO\u001b[38;5;132;01m}\u001b[39;00m\u001b[33m=\u001b[39m\u001b[38;5;132;01m{\u001b[39;00mrelease\u001b[38;5;132;01m}\u001b[39;00m\u001b[33m&isObsolete=false&label=\u001b[39m\u001b[38;5;132;01m{\u001b[39;00mid_or_label\u001b[38;5;132;01m}\u001b[39;00m\u001b[33m\"\u001b[39m,\n\u001b[32m     37\u001b[39m     \u001b[33mf\u001b[39m\u001b[33m\"\u001b[39m\u001b[38;5;132;01m{\u001b[39;00m\u001b[38;5;28mself\u001b[39m.base_url\u001b[38;5;132;01m}\u001b[39;00m\u001b[33m/classes?\u001b[39m\u001b[38;5;132;01m{\u001b[39;00mVERSION_INFO\u001b[38;5;132;01m}\u001b[39;00m\u001b[33m=\u001b[39m\u001b[38;5;132;01m{\u001b[39;00mrelease\u001b[38;5;132;01m}\u001b[39;00m\u001b[33m&isObsolete=true&\u001b[39m\u001b[38;5;132;01m{\u001b[39;00mIDENTIFIER\u001b[38;5;132;01m}\u001b[39;00m\u001b[33m=\u001b[39m\u001b[38;5;132;01m{\u001b[39;00mid_or_label\u001b[38;5;132;01m}\u001b[39;00m\u001b[33m\"\u001b[39m,\n\u001b[32m     38\u001b[39m     \u001b[33mf\u001b[39m\u001b[33m\"\u001b[39m\u001b[38;5;132;01m{\u001b[39;00m\u001b[38;5;28mself\u001b[39m.base_url\u001b[38;5;132;01m}\u001b[39;00m\u001b[33m/classes?\u001b[39m\u001b[38;5;132;01m{\u001b[39;00mVERSION_INFO\u001b[38;5;132;01m}\u001b[39;00m\u001b[33m=\u001b[39m\u001b[38;5;132;01m{\u001b[39;00mrelease\u001b[38;5;132;01m}\u001b[39;00m\u001b[33m&isObsolete=true&label=\u001b[39m\u001b[38;5;132;01m{\u001b[39;00mid_or_label\u001b[38;5;132;01m}\u001b[39;00m\u001b[33m\"\u001b[39m,\n\u001b[32m     39\u001b[39m ])\n\u001b[32m     40\u001b[39m \u001b[38;5;28;01mif\u001b[39;00m \u001b[38;5;129;01mnot\u001b[39;00m res:\n\u001b[32m---> \u001b[39m\u001b[32m41\u001b[39m     \u001b[38;5;28;01mraise\u001b[39;00m \u001b[38;5;167;01mValueError\u001b[39;00m(\u001b[33mf\u001b[39m\u001b[33m\"\u001b[39m\u001b[33mTaxon with identifier/label \u001b[39m\u001b[38;5;132;01m{\u001b[39;00mid_or_label\u001b[38;5;132;01m}\u001b[39;00m\u001b[33m not found in release \u001b[39m\u001b[38;5;132;01m{\u001b[39;00mrelease\u001b[38;5;132;01m}\u001b[39;00m\u001b[33m\"\u001b[39m)\n\u001b[32m     42\u001b[39m \u001b[38;5;28;01mif\u001b[39;00m \u001b[38;5;28mlen\u001b[39m(res) > \u001b[32m1\u001b[39m:\n\u001b[32m     43\u001b[39m     \u001b[38;5;28;01mraise\u001b[39;00m \u001b[38;5;167;01mValueError\u001b[39;00m(\u001b[33mf\u001b[39m\u001b[33m\"\u001b[39m\u001b[33mMultiple taxa found with identifier/label \u001b[39m\u001b[38;5;132;01m{\u001b[39;00mid_or_label\u001b[38;5;132;01m}\u001b[39;00m\u001b[33m in release \u001b[39m\u001b[38;5;132;01m{\u001b[39;00mrelease\u001b[38;5;132;01m}\u001b[39;00m\u001b[33m\"\u001b[39m)\n",
      "\u001b[31mValueError\u001b[39m: Taxon with identifier/label Bovine adenovirus not found in release MSL7"
     ]
    }
   ],
   "source": [
    "taxon = client.get_taxon_by_release('MSL6', 'Bovine adenovirus')\n",
    "replacements = client.get_replacements('MSL6', 'Bovine adenovirus')\n",
    "\n",
    "print(f\"Obsolescence reason: {taxon.obsolescence_reason}\")\n",
    "print(f\"Replacements:\")\n",
    "\n",
    "print(pd.DataFrame(replacements)[['msl', 'ictv_id', 'label']].to_markdown())\n",
    "\n"
   ]
  },
  {
   "cell_type": "markdown",
   "id": "ad924ab2",
   "metadata": {},
   "source": [
    "### Where did Poliovirus in MSL18 come from?"
   ]
  },
  {
   "cell_type": "code",
   "execution_count": null,
   "id": "6634034f",
   "metadata": {},
   "outputs": [
    {
     "ename": "ValueError",
     "evalue": "Taxon with identifier/label ICTV19710068 not found in release MSL18",
     "output_type": "error",
     "traceback": [
      "\u001b[31m---------------------------------------------------------------------------\u001b[39m",
      "\u001b[31mValueError\u001b[39m                                Traceback (most recent call last)",
      "\u001b[36mCell\u001b[39m\u001b[36m \u001b[39m\u001b[32mIn[16]\u001b[39m\u001b[32m, line 4\u001b[39m\n\u001b[32m      1\u001b[39m parents = client.get_historical_parents(\u001b[33m'\u001b[39m\u001b[33mMSL18\u001b[39m\u001b[33m'\u001b[39m, \u001b[33m'\u001b[39m\u001b[33mPoliovirus\u001b[39m\u001b[33m'\u001b[39m)\n\u001b[32m      3\u001b[39m \u001b[38;5;28;01mfor\u001b[39;00m p \u001b[38;5;129;01min\u001b[39;00m parents:\n\u001b[32m----> \u001b[39m\u001b[32m4\u001b[39m     p[\u001b[33m'\u001b[39m\u001b[33mobsolescence_reason\u001b[39m\u001b[33m'\u001b[39m] = \u001b[43mclient\u001b[49m\u001b[43m.\u001b[49m\u001b[43mget_obsolescence_reason\u001b[49m\u001b[43m(\u001b[49m\u001b[33;43m'\u001b[39;49m\u001b[33;43mMSL18\u001b[39;49m\u001b[33;43m'\u001b[39;49m\u001b[43m,\u001b[49m\u001b[43m \u001b[49m\u001b[43mp\u001b[49m\u001b[43m[\u001b[49m\u001b[33;43m'\u001b[39;49m\u001b[33;43mictv_id\u001b[39;49m\u001b[33;43m'\u001b[39;49m\u001b[43m]\u001b[49m\u001b[43m)\u001b[49m\n\u001b[32m      6\u001b[39m \u001b[38;5;28mprint\u001b[39m(pd.DataFrame(parents)[[\u001b[33m'\u001b[39m\u001b[33mmsl\u001b[39m\u001b[33m'\u001b[39m, \u001b[33m'\u001b[39m\u001b[33mictv_id\u001b[39m\u001b[33m'\u001b[39m, \u001b[33m'\u001b[39m\u001b[33mlabel\u001b[39m\u001b[33m'\u001b[39m, \u001b[33m'\u001b[39m\u001b[33mobsolescence_reason\u001b[39m\u001b[33m'\u001b[39m]].to_markdown())\n",
      "\u001b[36mFile \u001b[39m\u001b[32m~/ictv-ontology/notebooks/ictv_ols.py:57\u001b[39m, in \u001b[36mICTVOLSClient.get_obsolescence_reason\u001b[39m\u001b[34m(self, release, id_or_label)\u001b[39m\n\u001b[32m     56\u001b[39m \u001b[38;5;28;01mdef\u001b[39;00m\u001b[38;5;250m \u001b[39m\u001b[34mget_obsolescence_reason\u001b[39m(\u001b[38;5;28mself\u001b[39m, release, id_or_label):\n\u001b[32m---> \u001b[39m\u001b[32m57\u001b[39m     taxon = \u001b[38;5;28;43mself\u001b[39;49m\u001b[43m.\u001b[49m\u001b[43mget_taxon_by_release\u001b[49m\u001b[43m(\u001b[49m\u001b[43mrelease\u001b[49m\u001b[43m,\u001b[49m\u001b[43m \u001b[49m\u001b[43mid_or_label\u001b[49m\u001b[43m)\u001b[49m\n\u001b[32m     58\u001b[39m     reason = taxon[\u001b[33m'\u001b[39m\u001b[33mentity\u001b[39m\u001b[33m'\u001b[39m].get(\u001b[33m'\u001b[39m\u001b[33mhttp://purl.obolibrary.org/obo/IAO_0000225\u001b[39m\u001b[33m'\u001b[39m, \u001b[38;5;28;01mNone\u001b[39;00m)\n\u001b[32m     59\u001b[39m     \u001b[38;5;28;01mif\u001b[39;00m reason == \u001b[33m'\u001b[39m\u001b[33mhttp://purl.obolibrary.org/obo/IAO_0000229\u001b[39m\u001b[33m'\u001b[39m:\n",
      "\u001b[36mFile \u001b[39m\u001b[32m~/ictv-ontology/notebooks/ictv_ols.py:41\u001b[39m, in \u001b[36mICTVOLSClient.get_taxon_by_release\u001b[39m\u001b[34m(self, release, id_or_label)\u001b[39m\n\u001b[32m     34\u001b[39m res = \u001b[38;5;28mself\u001b[39m._get_all_merged([\n\u001b[32m     35\u001b[39m     \u001b[33mf\u001b[39m\u001b[33m\"\u001b[39m\u001b[38;5;132;01m{\u001b[39;00m\u001b[38;5;28mself\u001b[39m.base_url\u001b[38;5;132;01m}\u001b[39;00m\u001b[33m/classes?\u001b[39m\u001b[38;5;132;01m{\u001b[39;00mVERSION_INFO\u001b[38;5;132;01m}\u001b[39;00m\u001b[33m=\u001b[39m\u001b[38;5;132;01m{\u001b[39;00mrelease\u001b[38;5;132;01m}\u001b[39;00m\u001b[33m&isObsolete=false&\u001b[39m\u001b[38;5;132;01m{\u001b[39;00mIDENTIFIER\u001b[38;5;132;01m}\u001b[39;00m\u001b[33m=\u001b[39m\u001b[38;5;132;01m{\u001b[39;00mid_or_label\u001b[38;5;132;01m}\u001b[39;00m\u001b[33m\"\u001b[39m,\n\u001b[32m     36\u001b[39m     \u001b[33mf\u001b[39m\u001b[33m\"\u001b[39m\u001b[38;5;132;01m{\u001b[39;00m\u001b[38;5;28mself\u001b[39m.base_url\u001b[38;5;132;01m}\u001b[39;00m\u001b[33m/classes?\u001b[39m\u001b[38;5;132;01m{\u001b[39;00mVERSION_INFO\u001b[38;5;132;01m}\u001b[39;00m\u001b[33m=\u001b[39m\u001b[38;5;132;01m{\u001b[39;00mrelease\u001b[38;5;132;01m}\u001b[39;00m\u001b[33m&isObsolete=false&label=\u001b[39m\u001b[38;5;132;01m{\u001b[39;00mid_or_label\u001b[38;5;132;01m}\u001b[39;00m\u001b[33m\"\u001b[39m,\n\u001b[32m     37\u001b[39m     \u001b[33mf\u001b[39m\u001b[33m\"\u001b[39m\u001b[38;5;132;01m{\u001b[39;00m\u001b[38;5;28mself\u001b[39m.base_url\u001b[38;5;132;01m}\u001b[39;00m\u001b[33m/classes?\u001b[39m\u001b[38;5;132;01m{\u001b[39;00mVERSION_INFO\u001b[38;5;132;01m}\u001b[39;00m\u001b[33m=\u001b[39m\u001b[38;5;132;01m{\u001b[39;00mrelease\u001b[38;5;132;01m}\u001b[39;00m\u001b[33m&isObsolete=true&\u001b[39m\u001b[38;5;132;01m{\u001b[39;00mIDENTIFIER\u001b[38;5;132;01m}\u001b[39;00m\u001b[33m=\u001b[39m\u001b[38;5;132;01m{\u001b[39;00mid_or_label\u001b[38;5;132;01m}\u001b[39;00m\u001b[33m\"\u001b[39m,\n\u001b[32m     38\u001b[39m     \u001b[33mf\u001b[39m\u001b[33m\"\u001b[39m\u001b[38;5;132;01m{\u001b[39;00m\u001b[38;5;28mself\u001b[39m.base_url\u001b[38;5;132;01m}\u001b[39;00m\u001b[33m/classes?\u001b[39m\u001b[38;5;132;01m{\u001b[39;00mVERSION_INFO\u001b[38;5;132;01m}\u001b[39;00m\u001b[33m=\u001b[39m\u001b[38;5;132;01m{\u001b[39;00mrelease\u001b[38;5;132;01m}\u001b[39;00m\u001b[33m&isObsolete=true&label=\u001b[39m\u001b[38;5;132;01m{\u001b[39;00mid_or_label\u001b[38;5;132;01m}\u001b[39;00m\u001b[33m\"\u001b[39m,\n\u001b[32m     39\u001b[39m ])\n\u001b[32m     40\u001b[39m \u001b[38;5;28;01mif\u001b[39;00m \u001b[38;5;129;01mnot\u001b[39;00m res:\n\u001b[32m---> \u001b[39m\u001b[32m41\u001b[39m     \u001b[38;5;28;01mraise\u001b[39;00m \u001b[38;5;167;01mValueError\u001b[39;00m(\u001b[33mf\u001b[39m\u001b[33m\"\u001b[39m\u001b[33mTaxon with identifier/label \u001b[39m\u001b[38;5;132;01m{\u001b[39;00mid_or_label\u001b[38;5;132;01m}\u001b[39;00m\u001b[33m not found in release \u001b[39m\u001b[38;5;132;01m{\u001b[39;00mrelease\u001b[38;5;132;01m}\u001b[39;00m\u001b[33m\"\u001b[39m)\n\u001b[32m     42\u001b[39m \u001b[38;5;28;01mif\u001b[39;00m \u001b[38;5;28mlen\u001b[39m(res) > \u001b[32m1\u001b[39m:\n\u001b[32m     43\u001b[39m     \u001b[38;5;28;01mraise\u001b[39;00m \u001b[38;5;167;01mValueError\u001b[39;00m(\u001b[33mf\u001b[39m\u001b[33m\"\u001b[39m\u001b[33mMultiple taxa found with identifier/label \u001b[39m\u001b[38;5;132;01m{\u001b[39;00mid_or_label\u001b[38;5;132;01m}\u001b[39;00m\u001b[33m in release \u001b[39m\u001b[38;5;132;01m{\u001b[39;00mrelease\u001b[38;5;132;01m}\u001b[39;00m\u001b[33m\"\u001b[39m)\n",
      "\u001b[31mValueError\u001b[39m: Taxon with identifier/label ICTV19710068 not found in release MSL18"
     ]
    }
   ],
   "source": [
    "parents = client.get_historical_parents('MSL18', 'Poliovirus')\n",
    "\n",
    "print(pd.DataFrame(parents)[['msl', 'ictv_id', 'label', 'obsolescence_reason']].to_markdown())"
   ]
  }
 ],
 "metadata": {
  "kernelspec": {
   "display_name": "Python 3",
   "language": "python",
   "name": "python3"
  },
  "language_info": {
   "codemirror_mode": {
    "name": "ipython",
    "version": 3
   },
   "file_extension": ".py",
   "mimetype": "text/x-python",
   "name": "python",
   "nbconvert_exporter": "python",
   "pygments_lexer": "ipython3",
   "version": "3.12.3"
  }
 },
 "nbformat": 4,
 "nbformat_minor": 5
}
